{
  "nbformat": 4,
  "nbformat_minor": 0,
  "metadata": {
    "colab": {
      "name": "day_off_demand_shape.ipynb",
      "provenance": [],
      "authorship_tag": "ABX9TyOmhnwCvOKjnHoDMwqBkD9q",
      "include_colab_link": true
    },
    "kernelspec": {
      "name": "python3",
      "display_name": "Python 3"
    }
  },
  "cells": [
    {
      "cell_type": "markdown",
      "metadata": {
        "id": "view-in-github",
        "colab_type": "text"
      },
      "source": [
        "<a href=\"https://colab.research.google.com/github/aadomingos/work_from_home/blob/work_from_home/day_off_demand_shape.ipynb\" target=\"_parent\"><img src=\"https://colab.research.google.com/assets/colab-badge.svg\" alt=\"Open In Colab\"/></a>"
      ]
    },
    {
      "cell_type": "markdown",
      "metadata": {
        "id": "X1BR5xasxvoL",
        "colab_type": "text"
      },
      "source": [
        "# First we need to upload our data from Google Drive:"
      ]
    },
    {
      "cell_type": "markdown",
      "metadata": {
        "id": "oSP5xGk2xtzN",
        "colab_type": "text"
      },
      "source": [
        "## Upload historical data"
      ]
    },
    {
      "cell_type": "code",
      "metadata": {
        "id": "UgKecNUHwmMX",
        "colab_type": "code",
        "colab": {}
      },
      "source": [
        "# mount your Google Drive to access files\n",
        "from google.colab import drive\n",
        "drive.mount('/content/drive')"
      ],
      "execution_count": 0,
      "outputs": []
    },
    {
      "cell_type": "code",
      "metadata": {
        "id": "NZ59ElWjyDzu",
        "colab_type": "code",
        "colab": {}
      },
      "source": [
        "import pandas as pd\n",
        "import numpy as np\n",
        "import glob"
      ],
      "execution_count": 0,
      "outputs": []
    },
    {
      "cell_type": "code",
      "metadata": {
        "id": "HnvebsHu78Ik",
        "colab_type": "code",
        "colab": {}
      },
      "source": [
        "# write path to your Google Drive folder that contains the data (from http://oasis.caiso.com/mrioasis/logon.do?reason=application.baseAction.noSession)\n",
        "path = '/content/drive/My Drive/Colab Notebooks/data/CAISO Data/Historical Data/Monthly Data'\n",
        "\n",
        "# use glob to iterate through files contained in the folder\n",
        "data_files = glob.glob(path + \"/*.csv\")\n",
        "\n",
        "# concatenate CSV files into one dataframe\n",
        "historical_data = pd.concat([pd.read_csv(file, \n",
        "                                         usecols=['INTERVALSTARTTIME_GMT', 'INTERVALENDTIME_GMT', 'OPR_DT', \n",
        "                                                  'OPR_HR', 'TAC_AREA_NAME', 'POS', 'MW', 'GROUP']) for file in data_files])\n",
        "# historical_data.head(10)"
      ],
      "execution_count": 0,
      "outputs": []
    },
    {
      "cell_type": "code",
      "metadata": {
        "id": "K4mLTpPlstu4",
        "colab_type": "code",
        "colab": {}
      },
      "source": [
        "# columns to iterate\n",
        "datetimeColumns = ['INTERVALSTARTTIME_GMT',\t'INTERVALENDTIME_GMT', 'OPR_DT']\n",
        "\n",
        "# convert columns to datetime\n",
        "historical_data.loc[:, datetimeColumns] = historical_data.loc[:, datetimeColumns].apply(pd.to_datetime)"
      ],
      "execution_count": 0,
      "outputs": []
    },
    {
      "cell_type": "code",
      "metadata": {
        "id": "ES0UUuTRzdsJ",
        "colab_type": "code",
        "colab": {
          "base_uri": "https://localhost:8080/",
          "height": 359
        },
        "outputId": "e8357612-86aa-44b2-aaf1-0ed7f9842f21"
      },
      "source": [
        "# convert datetime columns to correct timezone \n",
        "historical_data['INTERVALSTARTTIME_GMT'] = historical_data['INTERVALSTARTTIME_GMT'].dt.tz_convert('America/Los_Angeles')\n",
        "historical_data['INTERVALENDTIME_GMT'] = historical_data['INTERVALENDTIME_GMT'].dt.tz_convert('America/Los_Angeles')\n",
        "\n",
        "# historical_data.head(10)"
      ],
      "execution_count": 70,
      "outputs": [
        {
          "output_type": "execute_result",
          "data": {
            "text/html": [
              "<div>\n",
              "<style scoped>\n",
              "    .dataframe tbody tr th:only-of-type {\n",
              "        vertical-align: middle;\n",
              "    }\n",
              "\n",
              "    .dataframe tbody tr th {\n",
              "        vertical-align: top;\n",
              "    }\n",
              "\n",
              "    .dataframe thead th {\n",
              "        text-align: right;\n",
              "    }\n",
              "</style>\n",
              "<table border=\"1\" class=\"dataframe\">\n",
              "  <thead>\n",
              "    <tr style=\"text-align: right;\">\n",
              "      <th></th>\n",
              "      <th>INTERVALSTARTTIME_GMT</th>\n",
              "      <th>INTERVALENDTIME_GMT</th>\n",
              "      <th>OPR_DT</th>\n",
              "      <th>OPR_HR</th>\n",
              "      <th>TAC_AREA_NAME</th>\n",
              "      <th>POS</th>\n",
              "      <th>MW</th>\n",
              "      <th>GROUP</th>\n",
              "    </tr>\n",
              "  </thead>\n",
              "  <tbody>\n",
              "    <tr>\n",
              "      <th>0</th>\n",
              "      <td>2019-03-01 18:00:00-08:00</td>\n",
              "      <td>2019-03-01 19:00:00-08:00</td>\n",
              "      <td>2019-03-01</td>\n",
              "      <td>19</td>\n",
              "      <td>AZPS</td>\n",
              "      <td>3.8</td>\n",
              "      <td>3001</td>\n",
              "      <td>1</td>\n",
              "    </tr>\n",
              "    <tr>\n",
              "      <th>1</th>\n",
              "      <td>2019-03-01 20:00:00-08:00</td>\n",
              "      <td>2019-03-01 21:00:00-08:00</td>\n",
              "      <td>2019-03-01</td>\n",
              "      <td>21</td>\n",
              "      <td>AZPS</td>\n",
              "      <td>3.8</td>\n",
              "      <td>2876</td>\n",
              "      <td>1</td>\n",
              "    </tr>\n",
              "    <tr>\n",
              "      <th>2</th>\n",
              "      <td>2019-03-01 22:00:00-08:00</td>\n",
              "      <td>2019-03-01 23:00:00-08:00</td>\n",
              "      <td>2019-03-01</td>\n",
              "      <td>23</td>\n",
              "      <td>AZPS</td>\n",
              "      <td>3.8</td>\n",
              "      <td>2558</td>\n",
              "      <td>1</td>\n",
              "    </tr>\n",
              "    <tr>\n",
              "      <th>3</th>\n",
              "      <td>2019-03-01 19:00:00-08:00</td>\n",
              "      <td>2019-03-01 20:00:00-08:00</td>\n",
              "      <td>2019-03-01</td>\n",
              "      <td>20</td>\n",
              "      <td>AZPS</td>\n",
              "      <td>3.8</td>\n",
              "      <td>2960</td>\n",
              "      <td>1</td>\n",
              "    </tr>\n",
              "    <tr>\n",
              "      <th>4</th>\n",
              "      <td>2019-03-01 07:00:00-08:00</td>\n",
              "      <td>2019-03-01 08:00:00-08:00</td>\n",
              "      <td>2019-03-01</td>\n",
              "      <td>8</td>\n",
              "      <td>AZPS</td>\n",
              "      <td>3.8</td>\n",
              "      <td>2971</td>\n",
              "      <td>1</td>\n",
              "    </tr>\n",
              "    <tr>\n",
              "      <th>5</th>\n",
              "      <td>2019-03-01 09:00:00-08:00</td>\n",
              "      <td>2019-03-01 10:00:00-08:00</td>\n",
              "      <td>2019-03-01</td>\n",
              "      <td>10</td>\n",
              "      <td>AZPS</td>\n",
              "      <td>3.8</td>\n",
              "      <td>2519</td>\n",
              "      <td>1</td>\n",
              "    </tr>\n",
              "    <tr>\n",
              "      <th>6</th>\n",
              "      <td>2019-03-01 14:00:00-08:00</td>\n",
              "      <td>2019-03-01 15:00:00-08:00</td>\n",
              "      <td>2019-03-01</td>\n",
              "      <td>15</td>\n",
              "      <td>AZPS</td>\n",
              "      <td>3.8</td>\n",
              "      <td>2417</td>\n",
              "      <td>1</td>\n",
              "    </tr>\n",
              "    <tr>\n",
              "      <th>7</th>\n",
              "      <td>2019-03-01 23:00:00-08:00</td>\n",
              "      <td>2019-03-02 00:00:00-08:00</td>\n",
              "      <td>2019-03-01</td>\n",
              "      <td>24</td>\n",
              "      <td>AZPS</td>\n",
              "      <td>3.8</td>\n",
              "      <td>2424</td>\n",
              "      <td>1</td>\n",
              "    </tr>\n",
              "    <tr>\n",
              "      <th>8</th>\n",
              "      <td>2019-03-01 03:00:00-08:00</td>\n",
              "      <td>2019-03-01 04:00:00-08:00</td>\n",
              "      <td>2019-03-01</td>\n",
              "      <td>4</td>\n",
              "      <td>AZPS</td>\n",
              "      <td>3.8</td>\n",
              "      <td>2478</td>\n",
              "      <td>1</td>\n",
              "    </tr>\n",
              "    <tr>\n",
              "      <th>9</th>\n",
              "      <td>2019-03-01 04:00:00-08:00</td>\n",
              "      <td>2019-03-01 05:00:00-08:00</td>\n",
              "      <td>2019-03-01</td>\n",
              "      <td>5</td>\n",
              "      <td>AZPS</td>\n",
              "      <td>3.8</td>\n",
              "      <td>2705</td>\n",
              "      <td>1</td>\n",
              "    </tr>\n",
              "  </tbody>\n",
              "</table>\n",
              "</div>"
            ],
            "text/plain": [
              "      INTERVALSTARTTIME_GMT       INTERVALENDTIME_GMT  ...    MW  GROUP\n",
              "0 2019-03-01 18:00:00-08:00 2019-03-01 19:00:00-08:00  ...  3001      1\n",
              "1 2019-03-01 20:00:00-08:00 2019-03-01 21:00:00-08:00  ...  2876      1\n",
              "2 2019-03-01 22:00:00-08:00 2019-03-01 23:00:00-08:00  ...  2558      1\n",
              "3 2019-03-01 19:00:00-08:00 2019-03-01 20:00:00-08:00  ...  2960      1\n",
              "4 2019-03-01 07:00:00-08:00 2019-03-01 08:00:00-08:00  ...  2971      1\n",
              "5 2019-03-01 09:00:00-08:00 2019-03-01 10:00:00-08:00  ...  2519      1\n",
              "6 2019-03-01 14:00:00-08:00 2019-03-01 15:00:00-08:00  ...  2417      1\n",
              "7 2019-03-01 23:00:00-08:00 2019-03-02 00:00:00-08:00  ...  2424      1\n",
              "8 2019-03-01 03:00:00-08:00 2019-03-01 04:00:00-08:00  ...  2478      1\n",
              "9 2019-03-01 04:00:00-08:00 2019-03-01 05:00:00-08:00  ...  2705      1\n",
              "\n",
              "[10 rows x 8 columns]"
            ]
          },
          "metadata": {
            "tags": []
          },
          "execution_count": 70
        }
      ]
    },
    {
      "cell_type": "code",
      "metadata": {
        "id": "_9b3cRWgv3DD",
        "colab_type": "code",
        "colab": {
          "base_uri": "https://localhost:8080/",
          "height": 68
        },
        "outputId": "038a9bf5-a726-4065-c05e-cada70338190"
      },
      "source": [
        "# find all the different TAC area names\n",
        "historical_data.TAC_AREA_NAME.unique()"
      ],
      "execution_count": 71,
      "outputs": [
        {
          "output_type": "execute_result",
          "data": {
            "text/plain": [
              "array(['AZPS', 'BCHA', 'CA ISO-TAC', 'IPCO', 'MWD-TAC', 'NEVP', 'PACE',\n",
              "       'PACW', 'PGE', 'PGE-TAC', 'PSEI', 'SCE-TAC', 'SDGE-TAC', 'VEA-TAC',\n",
              "       'BANCSMUD', 'SCL', 'SRP'], dtype=object)"
            ]
          },
          "metadata": {
            "tags": []
          },
          "execution_count": 71
        }
      ]
    },
    {
      "cell_type": "code",
      "metadata": {
        "id": "trrTBMbBu8gJ",
        "colab_type": "code",
        "colab": {}
      },
      "source": [
        "# groupby TAC Area Name\n",
        "historical_data_TACs = historical_data.groupby('TAC_AREA_NAME')\n",
        "# historical_data.head(25)"
      ],
      "execution_count": 0,
      "outputs": []
    },
    {
      "cell_type": "code",
      "metadata": {
        "id": "yuJGyVjE5-Xg",
        "colab_type": "code",
        "colab": {
          "base_uri": "https://localhost:8080/",
          "height": 419
        },
        "outputId": "d1c1867d-45eb-49d2-cd82-bd0d09e10734"
      },
      "source": [
        "historical_data_TACs.get_group('CA ISO-TAC')"
      ],
      "execution_count": 73,
      "outputs": [
        {
          "output_type": "execute_result",
          "data": {
            "text/html": [
              "<div>\n",
              "<style scoped>\n",
              "    .dataframe tbody tr th:only-of-type {\n",
              "        vertical-align: middle;\n",
              "    }\n",
              "\n",
              "    .dataframe tbody tr th {\n",
              "        vertical-align: top;\n",
              "    }\n",
              "\n",
              "    .dataframe thead th {\n",
              "        text-align: right;\n",
              "    }\n",
              "</style>\n",
              "<table border=\"1\" class=\"dataframe\">\n",
              "  <thead>\n",
              "    <tr style=\"text-align: right;\">\n",
              "      <th></th>\n",
              "      <th>INTERVALSTARTTIME_GMT</th>\n",
              "      <th>INTERVALENDTIME_GMT</th>\n",
              "      <th>OPR_DT</th>\n",
              "      <th>OPR_HR</th>\n",
              "      <th>TAC_AREA_NAME</th>\n",
              "      <th>POS</th>\n",
              "      <th>MW</th>\n",
              "      <th>GROUP</th>\n",
              "    </tr>\n",
              "  </thead>\n",
              "  <tbody>\n",
              "    <tr>\n",
              "      <th>48</th>\n",
              "      <td>2019-03-01 02:00:00-08:00</td>\n",
              "      <td>2019-03-01 03:00:00-08:00</td>\n",
              "      <td>2019-03-01</td>\n",
              "      <td>3</td>\n",
              "      <td>CA ISO-TAC</td>\n",
              "      <td>3.0</td>\n",
              "      <td>19672</td>\n",
              "      <td>3</td>\n",
              "    </tr>\n",
              "    <tr>\n",
              "      <th>49</th>\n",
              "      <td>2019-03-01 17:00:00-08:00</td>\n",
              "      <td>2019-03-01 18:00:00-08:00</td>\n",
              "      <td>2019-03-01</td>\n",
              "      <td>18</td>\n",
              "      <td>CA ISO-TAC</td>\n",
              "      <td>3.0</td>\n",
              "      <td>25072</td>\n",
              "      <td>3</td>\n",
              "    </tr>\n",
              "    <tr>\n",
              "      <th>50</th>\n",
              "      <td>2019-03-01 14:00:00-08:00</td>\n",
              "      <td>2019-03-01 15:00:00-08:00</td>\n",
              "      <td>2019-03-01</td>\n",
              "      <td>15</td>\n",
              "      <td>CA ISO-TAC</td>\n",
              "      <td>3.0</td>\n",
              "      <td>22458</td>\n",
              "      <td>3</td>\n",
              "    </tr>\n",
              "    <tr>\n",
              "      <th>51</th>\n",
              "      <td>2019-03-01 07:00:00-08:00</td>\n",
              "      <td>2019-03-01 08:00:00-08:00</td>\n",
              "      <td>2019-03-01</td>\n",
              "      <td>8</td>\n",
              "      <td>CA ISO-TAC</td>\n",
              "      <td>3.0</td>\n",
              "      <td>24109</td>\n",
              "      <td>3</td>\n",
              "    </tr>\n",
              "    <tr>\n",
              "      <th>52</th>\n",
              "      <td>2019-03-01 13:00:00-08:00</td>\n",
              "      <td>2019-03-01 14:00:00-08:00</td>\n",
              "      <td>2019-03-01</td>\n",
              "      <td>14</td>\n",
              "      <td>CA ISO-TAC</td>\n",
              "      <td>3.0</td>\n",
              "      <td>22763</td>\n",
              "      <td>3</td>\n",
              "    </tr>\n",
              "    <tr>\n",
              "      <th>...</th>\n",
              "      <td>...</td>\n",
              "      <td>...</td>\n",
              "      <td>...</td>\n",
              "      <td>...</td>\n",
              "      <td>...</td>\n",
              "      <td>...</td>\n",
              "      <td>...</td>\n",
              "      <td>...</td>\n",
              "    </tr>\n",
              "    <tr>\n",
              "      <th>10899</th>\n",
              "      <td>2020-03-31 10:00:00-07:00</td>\n",
              "      <td>2020-03-31 11:00:00-07:00</td>\n",
              "      <td>2020-03-31</td>\n",
              "      <td>11</td>\n",
              "      <td>CA ISO-TAC</td>\n",
              "      <td>3.0</td>\n",
              "      <td>20854</td>\n",
              "      <td>456</td>\n",
              "    </tr>\n",
              "    <tr>\n",
              "      <th>10900</th>\n",
              "      <td>2020-03-31 23:00:00-07:00</td>\n",
              "      <td>2020-04-01 00:00:00-07:00</td>\n",
              "      <td>2020-03-31</td>\n",
              "      <td>24</td>\n",
              "      <td>CA ISO-TAC</td>\n",
              "      <td>3.0</td>\n",
              "      <td>20610</td>\n",
              "      <td>456</td>\n",
              "    </tr>\n",
              "    <tr>\n",
              "      <th>10901</th>\n",
              "      <td>2020-03-31 05:00:00-07:00</td>\n",
              "      <td>2020-03-31 06:00:00-07:00</td>\n",
              "      <td>2020-03-31</td>\n",
              "      <td>6</td>\n",
              "      <td>CA ISO-TAC</td>\n",
              "      <td>3.0</td>\n",
              "      <td>20234</td>\n",
              "      <td>456</td>\n",
              "    </tr>\n",
              "    <tr>\n",
              "      <th>10902</th>\n",
              "      <td>2020-03-31 11:00:00-07:00</td>\n",
              "      <td>2020-03-31 12:00:00-07:00</td>\n",
              "      <td>2020-03-31</td>\n",
              "      <td>12</td>\n",
              "      <td>CA ISO-TAC</td>\n",
              "      <td>3.0</td>\n",
              "      <td>20224</td>\n",
              "      <td>456</td>\n",
              "    </tr>\n",
              "    <tr>\n",
              "      <th>10903</th>\n",
              "      <td>2020-03-31 21:00:00-07:00</td>\n",
              "      <td>2020-03-31 22:00:00-07:00</td>\n",
              "      <td>2020-03-31</td>\n",
              "      <td>22</td>\n",
              "      <td>CA ISO-TAC</td>\n",
              "      <td>3.0</td>\n",
              "      <td>23097</td>\n",
              "      <td>456</td>\n",
              "    </tr>\n",
              "  </tbody>\n",
              "</table>\n",
              "<p>1486 rows × 8 columns</p>\n",
              "</div>"
            ],
            "text/plain": [
              "          INTERVALSTARTTIME_GMT       INTERVALENDTIME_GMT  ...     MW  GROUP\n",
              "48    2019-03-01 02:00:00-08:00 2019-03-01 03:00:00-08:00  ...  19672      3\n",
              "49    2019-03-01 17:00:00-08:00 2019-03-01 18:00:00-08:00  ...  25072      3\n",
              "50    2019-03-01 14:00:00-08:00 2019-03-01 15:00:00-08:00  ...  22458      3\n",
              "51    2019-03-01 07:00:00-08:00 2019-03-01 08:00:00-08:00  ...  24109      3\n",
              "52    2019-03-01 13:00:00-08:00 2019-03-01 14:00:00-08:00  ...  22763      3\n",
              "...                         ...                       ...  ...    ...    ...\n",
              "10899 2020-03-31 10:00:00-07:00 2020-03-31 11:00:00-07:00  ...  20854    456\n",
              "10900 2020-03-31 23:00:00-07:00 2020-04-01 00:00:00-07:00  ...  20610    456\n",
              "10901 2020-03-31 05:00:00-07:00 2020-03-31 06:00:00-07:00  ...  20234    456\n",
              "10902 2020-03-31 11:00:00-07:00 2020-03-31 12:00:00-07:00  ...  20224    456\n",
              "10903 2020-03-31 21:00:00-07:00 2020-03-31 22:00:00-07:00  ...  23097    456\n",
              "\n",
              "[1486 rows x 8 columns]"
            ]
          },
          "metadata": {
            "tags": []
          },
          "execution_count": 73
        }
      ]
    },
    {
      "cell_type": "code",
      "metadata": {
        "id": "htL7WDBL3tOg",
        "colab_type": "code",
        "colab": {}
      },
      "source": [
        "# find differences in load shape based on the TAC Area"
      ],
      "execution_count": 0,
      "outputs": []
    },
    {
      "cell_type": "code",
      "metadata": {
        "id": "a86_rf8DyVDe",
        "colab_type": "code",
        "colab": {}
      },
      "source": [
        "# # split out last year's data\n",
        "# this_year = historical_data[historical_data['OPR_DT'] >= '2020']"
      ],
      "execution_count": 0,
      "outputs": []
    },
    {
      "cell_type": "code",
      "metadata": {
        "id": "yDHRzkP0tN64",
        "colab_type": "code",
        "colab": {}
      },
      "source": [
        "# # split out this year's data\n",
        "# last_year = historical_data[historical_data['OPR_DT'] <= '2020']"
      ],
      "execution_count": 0,
      "outputs": []
    },
    {
      "cell_type": "code",
      "metadata": {
        "id": "PpqVGF-v1Xss",
        "colab_type": "code",
        "colab": {}
      },
      "source": [
        "# !pip install stumpy"
      ],
      "execution_count": 0,
      "outputs": []
    },
    {
      "cell_type": "code",
      "metadata": {
        "id": "Ur4VytC6vYF1",
        "colab_type": "code",
        "colab": {}
      },
      "source": [
        ""
      ],
      "execution_count": 0,
      "outputs": []
    },
    {
      "cell_type": "code",
      "metadata": {
        "id": "A7aKbpyTvX7D",
        "colab_type": "code",
        "colab": {}
      },
      "source": [
        ""
      ],
      "execution_count": 0,
      "outputs": []
    }
  ]
}