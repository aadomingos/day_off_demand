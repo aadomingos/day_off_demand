{
  "nbformat": 4,
  "nbformat_minor": 0,
  "metadata": {
    "colab": {
      "name": "day_off_demand_shape.ipynb",
      "provenance": [],
      "authorship_tag": "ABX9TyNFtLsHMRmVz8LPybQDjmD/",
      "include_colab_link": true
    },
    "kernelspec": {
      "name": "python3",
      "display_name": "Python 3"
    }
  },
  "cells": [
    {
      "cell_type": "markdown",
      "metadata": {
        "id": "view-in-github",
        "colab_type": "text"
      },
      "source": [
        "<a href=\"https://colab.research.google.com/github/aadomingos/day_off_demand/blob/master/day_off_demand_shape.ipynb\" target=\"_parent\"><img src=\"https://colab.research.google.com/assets/colab-badge.svg\" alt=\"Open In Colab\"/></a>"
      ]
    },
    {
      "cell_type": "markdown",
      "metadata": {
        "id": "X1BR5xasxvoL",
        "colab_type": "text"
      },
      "source": [
        "# First we need to upload our data from Google Drive:"
      ]
    },
    {
      "cell_type": "markdown",
      "metadata": {
        "id": "oSP5xGk2xtzN",
        "colab_type": "text"
      },
      "source": [
        "## Upload historical data"
      ]
    },
    {
      "cell_type": "code",
      "metadata": {
        "id": "UgKecNUHwmMX",
        "colab_type": "code",
        "outputId": "286bc6c1-6ce0-4fb7-bf61-8b0abc76dbbd",
        "colab": {
          "base_uri": "https://localhost:8080/",
          "height": 122
        }
      },
      "source": [
        "# mount your Google Drive to access files\n",
        "from google.colab import drive\n",
        "drive.mount('/content/drive')"
      ],
      "execution_count": 1,
      "outputs": [
        {
          "output_type": "stream",
          "text": [
            "Go to this URL in a browser: https://accounts.google.com/o/oauth2/auth?client_id=947318989803-6bn6qk8qdgf4n4g3pfee6491hc0brc4i.apps.googleusercontent.com&redirect_uri=urn%3aietf%3awg%3aoauth%3a2.0%3aoob&response_type=code&scope=email%20https%3a%2f%2fwww.googleapis.com%2fauth%2fdocs.test%20https%3a%2f%2fwww.googleapis.com%2fauth%2fdrive%20https%3a%2f%2fwww.googleapis.com%2fauth%2fdrive.photos.readonly%20https%3a%2f%2fwww.googleapis.com%2fauth%2fpeopleapi.readonly\n",
            "\n",
            "Enter your authorization code:\n",
            "··········\n",
            "Mounted at /content/drive\n"
          ],
          "name": "stdout"
        }
      ]
    },
    {
      "cell_type": "code",
      "metadata": {
        "id": "NZ59ElWjyDzu",
        "colab_type": "code",
        "colab": {}
      },
      "source": [
        "import pandas as pd\n",
        "import numpy as np\n",
        "import glob"
      ],
      "execution_count": 0,
      "outputs": []
    },
    {
      "cell_type": "code",
      "metadata": {
        "id": "HnvebsHu78Ik",
        "colab_type": "code",
        "colab": {}
      },
      "source": [
        "# write path to your Google Drive folder that contains the data (from http://oasis.caiso.com/mrioasis/logon.do?reason=application.baseAction.noSession)\n",
        "path = '/content/drive/My Drive/Colab Notebooks/data/CAISO Data/Historical Data/Monthly Data'\n",
        "\n",
        "# use glob to iterate through files contained in the folder\n",
        "data_files = glob.glob(path + \"/*.csv\")\n",
        "\n",
        "# concatenate CSV files into one dataframe\n",
        "historical_data = pd.concat([pd.read_csv(file, parse_dates=True) for file in data_files])\n",
        "# historical_data.head(10)"
      ],
      "execution_count": 0,
      "outputs": []
    },
    {
      "cell_type": "code",
      "metadata": {
        "id": "K4mLTpPlstu4",
        "colab_type": "code",
        "colab": {}
      },
      "source": [
        "# columns to iterate\n",
        "datetimeColumns = ['INTERVALSTARTTIME_GMT',\t'INTERVALENDTIME_GMT', 'OPR_DT']\n",
        "\n",
        "# convert columns to datetime\n",
        "historical_data.loc[:, datetimeColumns] = historical_data.loc[:, datetimeColumns].apply(pd.to_datetime)"
      ],
      "execution_count": 0,
      "outputs": []
    },
    {
      "cell_type": "code",
      "metadata": {
        "id": "ES0UUuTRzdsJ",
        "colab_type": "code",
        "colab": {}
      },
      "source": [
        "# convert datetime columns to correct timezone \n",
        "historical_data['INTERVALSTARTTIME_GMT'] = historical_data['INTERVALSTARTTIME_GMT'].dt.tz_convert('America/Los_Angeles')\n",
        "historical_data['INTERVALENDTIME_GMT'] = historical_data['INTERVALENDTIME_GMT'].dt.tz_convert('America/Los_Angeles')\n",
        "\n",
        "# historical_data.head(10)"
      ],
      "execution_count": 0,
      "outputs": []
    },
    {
      "cell_type": "code",
      "metadata": {
        "id": "_9b3cRWgv3DD",
        "colab_type": "code",
        "colab": {
          "base_uri": "https://localhost:8080/",
          "height": 68
        },
        "outputId": "1d2b86cd-7907-489f-f883-98f5a685087e"
      },
      "source": [
        "# find all the different TAC area names\n",
        "historical_data.TAC_AREA_NAME.unique()"
      ],
      "execution_count": 55,
      "outputs": [
        {
          "output_type": "execute_result",
          "data": {
            "text/plain": [
              "array(['AZPS', 'BCHA', 'CA ISO-TAC', 'IPCO', 'MWD-TAC', 'NEVP', 'PACE',\n",
              "       'PACW', 'PGE', 'PGE-TAC', 'PSEI', 'SCE-TAC', 'SDGE-TAC', 'VEA-TAC',\n",
              "       'BANCSMUD', 'SCL', 'SRP'], dtype=object)"
            ]
          },
          "metadata": {
            "tags": []
          },
          "execution_count": 55
        }
      ]
    },
    {
      "cell_type": "code",
      "metadata": {
        "id": "trrTBMbBu8gJ",
        "colab_type": "code",
        "colab": {}
      },
      "source": [
        "# groupby TAC Area Name\n",
        "historical_data_TACs = historical_data.groupby('TAC_AREA_NAME')\n",
        "# historical_data.head(25)"
      ],
      "execution_count": 0,
      "outputs": []
    },
    {
      "cell_type": "code",
      "metadata": {
        "id": "htL7WDBL3tOg",
        "colab_type": "code",
        "colab": {}
      },
      "source": [
        "# find differences in load shape based on the TAC Area"
      ],
      "execution_count": 0,
      "outputs": []
    },
    {
      "cell_type": "code",
      "metadata": {
        "id": "a86_rf8DyVDe",
        "colab_type": "code",
        "colab": {}
      },
      "source": [
        "# # split out last year's data\n",
        "# this_year = historical_data[historical_data['OPR_DT'] >= '2020']"
      ],
      "execution_count": 0,
      "outputs": []
    },
    {
      "cell_type": "code",
      "metadata": {
        "id": "yDHRzkP0tN64",
        "colab_type": "code",
        "colab": {}
      },
      "source": [
        "# # split out this year's data\n",
        "# last_year = historical_data[historical_data['OPR_DT'] <= '2020']"
      ],
      "execution_count": 0,
      "outputs": []
    },
    {
      "cell_type": "code",
      "metadata": {
        "id": "PpqVGF-v1Xss",
        "colab_type": "code",
        "colab": {}
      },
      "source": [
        "# !pip install stumpy"
      ],
      "execution_count": 0,
      "outputs": []
    },
    {
      "cell_type": "code",
      "metadata": {
        "id": "Ur4VytC6vYF1",
        "colab_type": "code",
        "colab": {}
      },
      "source": [
        ""
      ],
      "execution_count": 0,
      "outputs": []
    },
    {
      "cell_type": "code",
      "metadata": {
        "id": "A7aKbpyTvX7D",
        "colab_type": "code",
        "colab": {}
      },
      "source": [
        ""
      ],
      "execution_count": 0,
      "outputs": []
    }
  ]
}